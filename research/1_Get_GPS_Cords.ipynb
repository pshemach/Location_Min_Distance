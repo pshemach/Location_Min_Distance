{
 "cells": [
  {
   "cell_type": "code",
   "execution_count": 4,
   "metadata": {},
   "outputs": [],
   "source": [
    "import pandas as pd\n",
    "from geopy.geocoders import Nominatim"
   ]
  },
  {
   "cell_type": "code",
   "execution_count": 3,
   "metadata": {},
   "outputs": [
    {
     "data": {
      "text/html": [
       "<div>\n",
       "<style scoped>\n",
       "    .dataframe tbody tr th:only-of-type {\n",
       "        vertical-align: middle;\n",
       "    }\n",
       "\n",
       "    .dataframe tbody tr th {\n",
       "        vertical-align: top;\n",
       "    }\n",
       "\n",
       "    .dataframe thead th {\n",
       "        text-align: right;\n",
       "    }\n",
       "</style>\n",
       "<table border=\"1\" class=\"dataframe\">\n",
       "  <thead>\n",
       "    <tr style=\"text-align: right;\">\n",
       "      <th></th>\n",
       "      <th>NO</th>\n",
       "      <th>INVOICE NO</th>\n",
       "      <th>CUSTOMER NAME</th>\n",
       "      <th>ADDRESS</th>\n",
       "      <th>Invoice Value</th>\n",
       "      <th>Rep</th>\n",
       "    </tr>\n",
       "  </thead>\n",
       "  <tbody>\n",
       "    <tr>\n",
       "      <th>0</th>\n",
       "      <td>1</td>\n",
       "      <td>16529</td>\n",
       "      <td>Purasanda Trade Center</td>\n",
       "      <td>Nochchiyagama</td>\n",
       "      <td>21114.0</td>\n",
       "      <td>Dilshan</td>\n",
       "    </tr>\n",
       "    <tr>\n",
       "      <th>1</th>\n",
       "      <td>2</td>\n",
       "      <td>16437</td>\n",
       "      <td>Silumina Mega</td>\n",
       "      <td>Medawachchiya</td>\n",
       "      <td>240000.0</td>\n",
       "      <td>Dilshan</td>\n",
       "    </tr>\n",
       "    <tr>\n",
       "      <th>2</th>\n",
       "      <td>3</td>\n",
       "      <td>16539</td>\n",
       "      <td>Max City</td>\n",
       "      <td>Medirigiriya</td>\n",
       "      <td>48000.0</td>\n",
       "      <td>Dilshan</td>\n",
       "    </tr>\n",
       "    <tr>\n",
       "      <th>3</th>\n",
       "      <td>29</td>\n",
       "      <td>16560</td>\n",
       "      <td>Wenura Enterprises</td>\n",
       "      <td>Dambulla</td>\n",
       "      <td>154000.0</td>\n",
       "      <td>Dilshan</td>\n",
       "    </tr>\n",
       "    <tr>\n",
       "      <th>4</th>\n",
       "      <td>4</td>\n",
       "      <td>16528</td>\n",
       "      <td>Macro communication</td>\n",
       "      <td>Chilaw</td>\n",
       "      <td>48000.0</td>\n",
       "      <td>Dinushan</td>\n",
       "    </tr>\n",
       "  </tbody>\n",
       "</table>\n",
       "</div>"
      ],
      "text/plain": [
       "   NO  INVOICE NO           CUSTOMER NAME        ADDRESS  Invoice Value  \\\n",
       "0   1       16529  Purasanda Trade Center  Nochchiyagama        21114.0   \n",
       "1   2       16437           Silumina Mega  Medawachchiya       240000.0   \n",
       "2   3       16539               Max City    Medirigiriya        48000.0   \n",
       "3  29       16560      Wenura Enterprises       Dambulla       154000.0   \n",
       "4   4       16528     Macro communication         Chilaw        48000.0   \n",
       "\n",
       "        Rep  \n",
       "0   Dilshan  \n",
       "1   Dilshan  \n",
       "2   Dilshan  \n",
       "3   Dilshan  \n",
       "4  Dinushan  "
      ]
     },
     "execution_count": 3,
     "metadata": {},
     "output_type": "execute_result"
    }
   ],
   "source": [
    "df = pd.read_csv('../data/data.csv')\n",
    "df.head()"
   ]
  },
  {
   "cell_type": "code",
   "execution_count": 17,
   "metadata": {},
   "outputs": [],
   "source": [
    "# calling the Nominatim tool\n",
    "loc = Nominatim(user_agent=\"GetLoc\")"
   ]
  },
  {
   "cell_type": "code",
   "execution_count": 31,
   "metadata": {},
   "outputs": [
    {
     "data": {
      "text/plain": [
       "'Nochchiyagama'"
      ]
     },
     "execution_count": 31,
     "metadata": {},
     "output_type": "execute_result"
    }
   ],
   "source": [
    "location = df['ADDRESS'].to_list()\n",
    "location[0]"
   ]
  },
  {
   "cell_type": "code",
   "execution_count": 32,
   "metadata": {},
   "outputs": [],
   "source": [
    "# entering the location name\n",
    "getLoc = loc.geocode(location[0])"
   ]
  },
  {
   "cell_type": "code",
   "execution_count": 36,
   "metadata": {},
   "outputs": [
    {
     "name": "stdout",
     "output_type": "stream",
     "text": [
      "Nochchiyagama, Anuradhapura District, North Central Province, Sri Lanka\n"
     ]
    }
   ],
   "source": [
    "print(getLoc)"
   ]
  },
  {
   "cell_type": "code",
   "execution_count": 21,
   "metadata": {},
   "outputs": [
    {
     "data": {
      "text/plain": [
       "8.2640142"
      ]
     },
     "execution_count": 21,
     "metadata": {},
     "output_type": "execute_result"
    }
   ],
   "source": [
    "getLoc.latitude"
   ]
  },
  {
   "cell_type": "code",
   "execution_count": 22,
   "metadata": {},
   "outputs": [
    {
     "data": {
      "text/plain": [
       "80.2105099"
      ]
     },
     "execution_count": 22,
     "metadata": {},
     "output_type": "execute_result"
    }
   ],
   "source": [
    "getLoc.longitude"
   ]
  },
  {
   "cell_type": "code",
   "execution_count": 37,
   "metadata": {},
   "outputs": [
    {
     "name": "stdout",
     "output_type": "stream",
     "text": [
      "ADDRESS Nochchiyagama: cords Nochchiyagama, Anuradhapura District, North Central Province, Sri Lanka (8.2640142, 80.2105099)\n",
      "ADDRESS Medawachchiya: cords Medawachchiya, Anuradhapura District, North Central Province, Sri Lanka (8.5387775, 80.492996)\n",
      "ADDRESS Medirigiriya: cords Medirigiriya, Polonnaruwa District, North Central Province, Sri Lanka (8.1423253, 80.971342)\n",
      "ADDRESS Dambulla: cords Dambulla, Matale District, Central Province, 21000, Sri Lanka (7.8742031, 80.6510917)\n",
      "ADDRESS Chilaw: cords Chilaw, Puttalam District, North Western Province, 61238, Sri Lanka (7.5765074, 79.7956755)\n",
      "ADDRESS Wellawa: cords Wellawa, Kurunegala, Kurunǣgala, North Western Province, 60000, Sri Lanka (7.5581214, 80.3664063)\n",
      "ADDRESS Polpithigama: cords Polpithigama, Kurunǣgala, North Western Province, Sri Lanka (7.8172167, 80.4049605)\n",
      "ADDRESS Maho: cords Maho, Kurunǣgala, North Western Province, 60600, Sri Lanka (7.8239143, 80.273567)\n",
      "ADDRESS Galgamuwa: cords Galgamuwa, Kurunǣgala, North Western Province, 60700, Sri Lanka (7.9956682, 80.2706117)\n",
      "ADDRESS Alawwa: cords Alawwa, Alawwa-Giriulla Road, Alawwa, Kurunǣgala, North Western Province, Sri Lanka (7.2933377, 80.2387243)\n",
      "ADDRESS Narammala: cords Narammala, Kurunǣgala, North Western Province, 60100, Sri Lanka (7.43073, 80.2143788)\n",
      "ADDRESS Ibbagamuwa: cords Ibbagamuwa, Kurunǣgala, North Western Province, 60500, Sri Lanka (7.5479128, 80.4496417)\n",
      "ADDRESS Katupotha: cords Katupotha, Kurunǣgala, North Western Province, Sri Lanka (7.53362, 80.1875737)\n",
      "ADDRESS Pothuhera: cords Pothuhera, Kurunǣgala, North Western Province, 60028, Sri Lanka (7.4198002, 80.3282461)\n",
      "ADDRESS Anuradapura: cords Anuradhapura District, North Central Province, Sri Lanka (8.3681682, 80.43998205570749)\n",
      "ADDRESS Aralaganwila: cords Aralaganwila, Polonnaruwa District, North Central Province, 51100, Sri Lanka (7.782607, 81.184693)\n",
      "ADDRESS Thirappane: cords Thirappane, Anuradhapura District, North Central Province, Sri Lanka (8.2157151, 80.5229819)\n",
      "ADDRESS Dewahuwa: cords Dewahuwa, Matale District, Central Province, Sri Lanka (7.8456614, 80.5737567)\n",
      "ADDRESS Kumbukgate: cords Kumbukgate, Kurunǣgala, North Western Province, Sri Lanka (7.6760968, 80.424747)\n",
      "ADDRESS Kithalawa: cords Kithalawa, Kurunǣgala, North Western Province, 60186, Sri Lanka (7.4607943, 80.109762)\n",
      "ADDRESS Polgahawela: cords Polgahawela, Kurunǣgala, North Western Province, 71055, Sri Lanka (7.3352583, 80.3002463)\n",
      "ADDRESS Rambawa: cords Rambawa Watte Wewa, Polpithigama, Kurunǣgala, North Western Province, Sri Lanka (7.809767, 80.39967259972943)\n",
      "ADDRESS Kurunagala: cords Kurunagala, Kurunegala M.C. Limit, Kurunǣgala, North Western Province, Sri Lanka (7.4959317, 80.36193005611548)\n",
      "ADDRESS Maho: cords Maho, Kurunǣgala, North Western Province, 60600, Sri Lanka (7.8239143, 80.273567)\n"
     ]
    }
   ],
   "source": [
    "for town in location:\n",
    "    getLoc = loc.geocode(town)\n",
    "    if getLoc is not None:\n",
    "        df.loc[df['ADDRESS'] == town, 'LATITUDE'] = getLoc.latitude\n",
    "        df.loc[df['ADDRESS'] == town, 'LONGITUDE'] = getLoc.longitude\n",
    "        print(f\"ADDRESS {town}: cords {getLoc} {getLoc[1]}\")\n",
    "    else:\n",
    "        df.loc[df[\"ADDRESS\"] == town, \"LATITUDE\"] = None\n",
    "        df.loc[df[\"ADDRESS\"] == town, \"LONGITUDE\"] = None"
   ]
  },
  {
   "cell_type": "code",
   "execution_count": 38,
   "metadata": {},
   "outputs": [
    {
     "data": {
      "text/html": [
       "<div>\n",
       "<style scoped>\n",
       "    .dataframe tbody tr th:only-of-type {\n",
       "        vertical-align: middle;\n",
       "    }\n",
       "\n",
       "    .dataframe tbody tr th {\n",
       "        vertical-align: top;\n",
       "    }\n",
       "\n",
       "    .dataframe thead th {\n",
       "        text-align: right;\n",
       "    }\n",
       "</style>\n",
       "<table border=\"1\" class=\"dataframe\">\n",
       "  <thead>\n",
       "    <tr style=\"text-align: right;\">\n",
       "      <th></th>\n",
       "      <th>NO</th>\n",
       "      <th>INVOICE NO</th>\n",
       "      <th>CUSTOMER NAME</th>\n",
       "      <th>ADDRESS</th>\n",
       "      <th>Invoice Value</th>\n",
       "      <th>Rep</th>\n",
       "      <th>LATITUDE</th>\n",
       "      <th>LONGITUDE</th>\n",
       "    </tr>\n",
       "  </thead>\n",
       "  <tbody>\n",
       "    <tr>\n",
       "      <th>0</th>\n",
       "      <td>1</td>\n",
       "      <td>16529</td>\n",
       "      <td>Purasanda Trade Center</td>\n",
       "      <td>Nochchiyagama</td>\n",
       "      <td>21114.0</td>\n",
       "      <td>Dilshan</td>\n",
       "      <td>8.264014</td>\n",
       "      <td>80.210510</td>\n",
       "    </tr>\n",
       "    <tr>\n",
       "      <th>1</th>\n",
       "      <td>2</td>\n",
       "      <td>16437</td>\n",
       "      <td>Silumina Mega</td>\n",
       "      <td>Medawachchiya</td>\n",
       "      <td>240000.0</td>\n",
       "      <td>Dilshan</td>\n",
       "      <td>8.538778</td>\n",
       "      <td>80.492996</td>\n",
       "    </tr>\n",
       "    <tr>\n",
       "      <th>2</th>\n",
       "      <td>3</td>\n",
       "      <td>16539</td>\n",
       "      <td>Max City</td>\n",
       "      <td>Medirigiriya</td>\n",
       "      <td>48000.0</td>\n",
       "      <td>Dilshan</td>\n",
       "      <td>8.142325</td>\n",
       "      <td>80.971342</td>\n",
       "    </tr>\n",
       "    <tr>\n",
       "      <th>3</th>\n",
       "      <td>29</td>\n",
       "      <td>16560</td>\n",
       "      <td>Wenura Enterprises</td>\n",
       "      <td>Dambulla</td>\n",
       "      <td>154000.0</td>\n",
       "      <td>Dilshan</td>\n",
       "      <td>7.874203</td>\n",
       "      <td>80.651092</td>\n",
       "    </tr>\n",
       "    <tr>\n",
       "      <th>4</th>\n",
       "      <td>4</td>\n",
       "      <td>16528</td>\n",
       "      <td>Macro communication</td>\n",
       "      <td>Chilaw</td>\n",
       "      <td>48000.0</td>\n",
       "      <td>Dinushan</td>\n",
       "      <td>7.576507</td>\n",
       "      <td>79.795676</td>\n",
       "    </tr>\n",
       "  </tbody>\n",
       "</table>\n",
       "</div>"
      ],
      "text/plain": [
       "   NO  INVOICE NO           CUSTOMER NAME        ADDRESS  Invoice Value  \\\n",
       "0   1       16529  Purasanda Trade Center  Nochchiyagama        21114.0   \n",
       "1   2       16437           Silumina Mega  Medawachchiya       240000.0   \n",
       "2   3       16539               Max City    Medirigiriya        48000.0   \n",
       "3  29       16560      Wenura Enterprises       Dambulla       154000.0   \n",
       "4   4       16528     Macro communication         Chilaw        48000.0   \n",
       "\n",
       "        Rep  LATITUDE  LONGITUDE  \n",
       "0   Dilshan  8.264014  80.210510  \n",
       "1   Dilshan  8.538778  80.492996  \n",
       "2   Dilshan  8.142325  80.971342  \n",
       "3   Dilshan  7.874203  80.651092  \n",
       "4  Dinushan  7.576507  79.795676  "
      ]
     },
     "execution_count": 38,
     "metadata": {},
     "output_type": "execute_result"
    }
   ],
   "source": [
    "df.head()"
   ]
  },
  {
   "cell_type": "code",
   "execution_count": 39,
   "metadata": {},
   "outputs": [],
   "source": [
    "df.to_csv('../data/data_gps.csv', index=False)"
   ]
  },
  {
   "cell_type": "code",
   "execution_count": 40,
   "metadata": {},
   "outputs": [
    {
     "name": "stdout",
     "output_type": "stream",
     "text": [
      "Udawela-Welipannagahamulla Road, Welipannagahamula, Kurunǣgala, North Western Province, Sri Lanka\n"
     ]
    }
   ],
   "source": [
    "# calling the nominatim tool\n",
    "geoLoc = Nominatim(user_agent=\"GetLoc\")\n",
    "\n",
    "# passing the coordinates\n",
    "locname = geoLoc.reverse(\"7.4307776, 79.9298775\")\n",
    "\n",
    "# printing the address/location name\n",
    "print(locname.address)"
   ]
  },
  {
   "cell_type": "code",
   "execution_count": null,
   "metadata": {},
   "outputs": [],
   "source": []
  }
 ],
 "metadata": {
  "kernelspec": {
   "display_name": ".venv",
   "language": "python",
   "name": "python3"
  },
  "language_info": {
   "codemirror_mode": {
    "name": "ipython",
    "version": 3
   },
   "file_extension": ".py",
   "mimetype": "text/x-python",
   "name": "python",
   "nbconvert_exporter": "python",
   "pygments_lexer": "ipython3",
   "version": "3.11.5"
  }
 },
 "nbformat": 4,
 "nbformat_minor": 2
}
